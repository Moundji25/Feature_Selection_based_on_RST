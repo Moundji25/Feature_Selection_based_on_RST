{
 "cells": [
  {
   "cell_type": "markdown",
   "id": "08f8a12f",
   "metadata": {},
   "source": [
    "# Feature selection with Rough set theory"
   ]
  },
  {
   "cell_type": "code",
   "execution_count": 23,
   "id": "4b4bb1e1",
   "metadata": {},
   "outputs": [],
   "source": [
    "import pandas as pd\n",
    "import matplotlib.pyplot as plt\n",
    "import seaborn as sns\n",
    "import numpy as np\n",
    "from scipy.stats import norm\n",
    "from sklearn.preprocessing import StandardScaler\n",
    "from scipy import stats\n",
    "import warnings\n",
    "warnings.filterwarnings('ignore')\n",
    "%matplotlib inline"
   ]
  },
  {
   "cell_type": "code",
   "execution_count": 24,
   "id": "64136bc5",
   "metadata": {},
   "outputs": [],
   "source": [
    "DF = pd.read_csv('Downloads\\Flu_dataset.csv')"
   ]
  },
  {
   "cell_type": "code",
   "execution_count": 25,
   "id": "827c0c15",
   "metadata": {},
   "outputs": [
    {
     "data": {
      "text/html": [
       "<div>\n",
       "<style scoped>\n",
       "    .dataframe tbody tr th:only-of-type {\n",
       "        vertical-align: middle;\n",
       "    }\n",
       "\n",
       "    .dataframe tbody tr th {\n",
       "        vertical-align: top;\n",
       "    }\n",
       "\n",
       "    .dataframe thead th {\n",
       "        text-align: right;\n",
       "    }\n",
       "</style>\n",
       "<table border=\"1\" class=\"dataframe\">\n",
       "  <thead>\n",
       "    <tr style=\"text-align: right;\">\n",
       "      <th></th>\n",
       "      <th>Headache</th>\n",
       "      <th>Muscle-pain</th>\n",
       "      <th>Temperature</th>\n",
       "      <th>Flu</th>\n",
       "    </tr>\n",
       "  </thead>\n",
       "  <tbody>\n",
       "    <tr>\n",
       "      <th>0</th>\n",
       "      <td>Yes</td>\n",
       "      <td>Yes</td>\n",
       "      <td>very high</td>\n",
       "      <td>Yes</td>\n",
       "    </tr>\n",
       "    <tr>\n",
       "      <th>1</th>\n",
       "      <td>Yes</td>\n",
       "      <td>No</td>\n",
       "      <td>high</td>\n",
       "      <td>Yes</td>\n",
       "    </tr>\n",
       "    <tr>\n",
       "      <th>2</th>\n",
       "      <td>Yes</td>\n",
       "      <td>No</td>\n",
       "      <td>high</td>\n",
       "      <td>No</td>\n",
       "    </tr>\n",
       "    <tr>\n",
       "      <th>3</th>\n",
       "      <td>No</td>\n",
       "      <td>Yes</td>\n",
       "      <td>normal</td>\n",
       "      <td>No</td>\n",
       "    </tr>\n",
       "    <tr>\n",
       "      <th>4</th>\n",
       "      <td>No</td>\n",
       "      <td>Yes</td>\n",
       "      <td>high</td>\n",
       "      <td>Yes</td>\n",
       "    </tr>\n",
       "    <tr>\n",
       "      <th>5</th>\n",
       "      <td>No</td>\n",
       "      <td>Yes</td>\n",
       "      <td>very high</td>\n",
       "      <td>Yes</td>\n",
       "    </tr>\n",
       "  </tbody>\n",
       "</table>\n",
       "</div>"
      ],
      "text/plain": [
       "  Headache Muscle-pain Temperature  Flu\n",
       "0      Yes         Yes   very high  Yes\n",
       "1      Yes          No        high  Yes\n",
       "2      Yes          No        high   No\n",
       "3       No         Yes      normal   No\n",
       "4       No         Yes        high  Yes\n",
       "5       No         Yes   very high  Yes"
      ]
     },
     "execution_count": 25,
     "metadata": {},
     "output_type": "execute_result"
    }
   ],
   "source": [
    "DF.head(6)"
   ]
  },
  {
   "cell_type": "code",
   "execution_count": 5,
   "id": "c5ebf6dd",
   "metadata": {},
   "outputs": [],
   "source": [
    "#fonction qui permet de retourner une listes sans des doublons \n",
    "def unique_set(my_list): \n",
    "    unique_sets = []\n",
    "    for s in my_list:\n",
    "        if s not in unique_sets:\n",
    "            unique_sets.append(s)\n",
    "    return unique_sets"
   ]
  },
  {
   "cell_type": "code",
   "execution_count": 6,
   "id": "5ce16406",
   "metadata": {},
   "outputs": [],
   "source": [
    "# fonction qui permet de retourner un dict avec comme clé la position dans le dict de base et comme valeur la valeur du dict de base \n",
    "def reindex_dict(d):\n",
    "    new_dict = {}\n",
    "    for i, (key, value) in enumerate(d.items()):\n",
    "        new_dict[i] = value\n",
    "    return new_dict"
   ]
  },
  {
   "cell_type": "code",
   "execution_count": 33,
   "id": "e7d60c38",
   "metadata": {},
   "outputs": [],
   "source": [
    "#fonction qui permet de créer les classes d'objet ayant les memes valeurs \n",
    "def IND_classes_short(iterable, indices):\n",
    "    classes = {}\n",
    "    dclasses = {}\n",
    "    #indices c'est les indices des attributs dans le dataset : cas 1 : si c B alors c tous les features (combinaisons possibles)\n",
    "    # cas 2 : si c le D c la target ducoup un seul indice\n",
    "    #iterable c l'univers U en gros c les lignes du dataset \n",
    "    #print(\"les indices : \",indices,\"\\n\")\n",
    "    for i, o in enumerate(iterable):\n",
    "        #print(\"l'objet \",i,\" : \",o,\"\\n\")\n",
    "        #print(\" o de indice : \",tuple(o[ind] for ind in indices))\n",
    "        key = tuple(o[ind] for ind in indices)\n",
    "        #print(\"key : \", key,\"\\n\")\n",
    "        if key not in classes:\n",
    "            classes[key] = set()\n",
    "        classes[key].add(i)\n",
    "        #print(\"classes(key) : \",classes[key],\"\\n\")\n",
    "        #print(\"dclasses(\",i,\") : \\n\")\n",
    "        dclasses[i] = classes[key]\n",
    "    #print(\"les classes : classes : \",reindex_dict(classes))  <<<<<<<<<<<<<<<<<<<<\n",
    "    \n",
    "    print(\"les classes : dclasses : \",dclasses)\n",
    "    #return list(classes.values()), dclasses\n",
    "    return reindex_dict(classes),dclasses"
   ]
  },
  {
   "cell_type": "code",
   "execution_count": 31,
   "id": "b900c52b",
   "metadata": {},
   "outputs": [],
   "source": [
    "#la lower approx utilisé dans RST \n",
    "def lower_2(B,D):\n",
    "    subset_list = []\n",
    "    for key1, value1 in D.items():\n",
    "        for key2, value2 in B.items():\n",
    "            if value2.issubset(value1):\n",
    "                #print(\"\\nles objets d'une classe de D : \",value1,\"  et celle de B : \", value2,\"\\n\")\n",
    "                subset_list.append(value2)\n",
    "    print(\"la liste d'approximation lower2 : \",unique_set(subset_list),\"\\n\\n\")\n",
    "    return subset_list"
   ]
  },
  {
   "cell_type": "code",
   "execution_count": 9,
   "id": "7e7a3b4e",
   "metadata": {},
   "outputs": [],
   "source": [
    "def upper_2(B,D):\n",
    "    subset_list = []\n",
    "    for key1, value1 in D.items():\n",
    "        for key2, value2 in B.items():\n",
    "            if value2.intersection(value1):\n",
    "                #print(\"\\nles objets d'une classe de D : \",value1,\"  et celle de B : \", value2,\"\\n\")\n",
    "                subset_list.append(value2)\n",
    "    print(\"la liste d'approximation upper2 : \",unique_set(subset_list),\"\\n\\n\")\n",
    "    return subset_list\n"
   ]
  },
  {
   "cell_type": "code",
   "execution_count": 10,
   "id": "665dd6ad",
   "metadata": {},
   "outputs": [],
   "source": [
    "def boundary_region(list1, list2):\n",
    "    #print(\"DANS BOUNARY  voila la liste : \",list1,\"\\n\")\n",
    "    if list1 != None :\n",
    "        if list2 == None : \n",
    "              return set(list1)\n",
    "        \n",
    "        #set1 = set(list1)\n",
    "        #set2 = set(list2)\n",
    "        #result = set()\n",
    "        result = list()\n",
    "        for s1 in list1:\n",
    "            if s1 not in list2:\n",
    "                #result.add(s1)\n",
    "                result.append(s1)\n",
    "        return unique_set(result)\n",
    "    return set()"
   ]
  },
  {
   "cell_type": "code",
   "execution_count": 11,
   "id": "48528888",
   "metadata": {},
   "outputs": [],
   "source": [
    "#fonction qui permet de faire une comparaison entre deux listes avec elements simples\n",
    "def compare_lists(list1, list2):\n",
    "    # Print the lists\n",
    "    #print(\"List 1: \", list1)\n",
    "    #print(\"List 2: \", list2)\n",
    "    \n",
    "    # Compare the lists\n",
    "    if set(list1) == set(list2):\n",
    "        return True\n",
    "    else:\n",
    "        return False"
   ]
  },
  {
   "cell_type": "code",
   "execution_count": 12,
   "id": "60013418",
   "metadata": {},
   "outputs": [],
   "source": [
    "#fonction qui permet de retourner une liste et retourne l'équivalent en dict avec comme clé les indices des elements\n",
    "def feature_index_dict(feature_list):\n",
    "    index_dict = {}\n",
    "    for i, feature in enumerate(feature_list):\n",
    "        index_dict[i] = feature\n",
    "    return index_dict"
   ]
  },
  {
   "cell_type": "code",
   "execution_count": 13,
   "id": "118ea997",
   "metadata": {},
   "outputs": [],
   "source": [
    "# fonction qui retourner une list avec les features indiqué avec la liste des indices en parametres\n",
    "def index_to_feature(index_list, df):\n",
    "    feature_list = []\n",
    "    for i in index_list :\n",
    "        feature_list.append(df.columns[i])\n",
    "    return feature_list\n"
   ]
  },
  {
   "cell_type": "markdown",
   "id": "f2f4fc04",
   "metadata": {},
   "source": [
    "# comment génerer les combinaisons des différents attributs"
   ]
  },
  {
   "cell_type": "code",
   "execution_count": 26,
   "id": "5c6440cd",
   "metadata": {},
   "outputs": [],
   "source": [
    "import itertools\n",
    "\n",
    "def generate_combinations(attributes):\n",
    "    \"\"\"\n",
    "  Generate all possible combinations of attributes, with a minimum of 2 attributes and a maximum of all attributes.\n",
    "\n",
    "  Parameters:\n",
    "  - attributes: a list of attribute names\n",
    "\n",
    "  Returns:\n",
    "  - combinations: a list of lists, each representing a combination of attribute names\n",
    "  \"\"\"\n",
    "  # Initialize an empty list to store the combinations\n",
    "    combinations = []\n",
    "\n",
    "  # Iterate through all possible lengths of combinations\n",
    "    for length in range(1, len(attributes)+1):\n",
    "    # Generate all combinations of the given length using itertools.combinations\n",
    "        for combination in itertools.combinations(attributes, length):\n",
    "            # Add the combination to the list of combinations\n",
    "            combinations.append(list(combination))\n",
    "\n",
    "    # Return the list of combinations\n",
    "    return combinations"
   ]
  },
  {
   "cell_type": "code",
   "execution_count": 20,
   "id": "046bca1d",
   "metadata": {},
   "outputs": [],
   "source": [
    "U = DF.values.tolist()\n",
    "U = [[index] + value for index , value in enumerate(U) ]\n",
    "\n",
    "#_________________________ Finding lower approximation and positif region\n",
    "def positive_reg(B,D):\n",
    "    #ind_B = equivalence_partition( U , B )[1]\n",
    "    tmp_1 = IND_classes_short( U , B )\n",
    "    ind_B = tmp_1[1] \n",
    "    #print(IND_classes_short(U,B))\n",
    "    #print(\"index B : \",ind_B,\"\\n\")\n",
    "    #ind_d = equivalence_partition( U , D )[1]\n",
    "    tmp_2 = IND_classes_short( U , D )\n",
    "    ind_d = tmp_2[1]\n",
    "    #print(\"index D : \",ind_d,\"\\n\")\n",
    "    print(\"les features : \",B,\"\\n\")\n",
    "    \n",
    "    #lower_2(tmp_1[0],tmp_2[0])\n",
    "    #upper_2(tmp_1[0],tmp_2[0])\n",
    "    lower_res = lower_2(tmp_1[0],tmp_2[0])\n",
    "    print(\"la boundary region : \",boundary_region( upper_2(tmp_1[0],tmp_2[0]) , lower_res ) ,\"\\n\\n\")\n",
    "    \n",
    "    return lower_res\n",
    "#_________________________ Rough set feature selection algo <<<<<<<<<<<<<<<<<<<<<<<<<<<< A REFAIRE \n",
    "\n",
    "def RST(C,D):\n",
    "    \n",
    "    les_positives = list()\n",
    "    positive_all_features = [item for sublist in positive_reg(C,D) for item in sublist]\n",
    "    #positive_all_features = positive_reg(C,D)\n",
    "    dict_features = feature_index_dict(DF.columns)\n",
    "    # parcourir les combinaisons\n",
    "    combs = generate_combinations(C)\n",
    "    co = 0\n",
    "    #print(\"La combi 12 : \\n\",index_to_feature(combs[12],DF))\n",
    "    \n",
    "    \n",
    "    for elem in combs : \n",
    "        print(elem,\"\\n\\n\")\n",
    "        print(index_to_feature(elem,DF))\n",
    "        #tmp_positive_reg = positive_reg(elem,D)\n",
    "        tmp_positive_reg = [item for sublist in positive_reg(elem,D) for item in sublist]\n",
    "        if (compare_lists(positive_all_features,tmp_positive_reg)) : \n",
    "            #print(\"Pos en generale : \",positive_all_features,\"\\nla Pos d'une combi\",tmp_positive_reg,\"\\n\")\n",
    "            co = co + 1 \n",
    "        #if compare_lists(positive_all_features,tmp_positive_reg) : \n",
    "            les_positives.append(elem)\n",
    "    print (\"le nombre de reducts co :\" , co)\n",
    "    \n",
    "    return les_positives\n",
    "    # récupérer pour chaque combinaison la positive région"
   ]
  },
  {
   "cell_type": "code",
   "execution_count": 34,
   "id": "341e518c",
   "metadata": {},
   "outputs": [
    {
     "name": "stdout",
     "output_type": "stream",
     "text": [
      "les classes : dclasses :  {0: {0}, 1: {1, 2}, 2: {1, 2}, 3: {3, 4, 5}, 4: {3, 4, 5}, 5: {3, 4, 5}}\n",
      "les classes : dclasses :  {0: {0, 1, 4, 5}, 1: {0, 1, 4, 5}, 2: {2, 3}, 3: {2, 3}, 4: {0, 1, 4, 5}, 5: {0, 1, 4, 5}}\n",
      "les features :  {1, 2} \n",
      "\n",
      "la liste d'approximation lower2 :  [{0}] \n",
      "\n",
      "\n",
      "la liste d'approximation upper2 :  [{0}, {1, 2}, {3, 4, 5}] \n",
      "\n",
      "\n",
      "la boundary region :  [{1, 2}, {3, 4, 5}] \n",
      "\n",
      "\n",
      "[1] \n",
      "\n",
      "\n",
      "['Muscle-pain']\n",
      "les classes : dclasses :  {0: {0, 1, 2}, 1: {0, 1, 2}, 2: {0, 1, 2}, 3: {3, 4, 5}, 4: {3, 4, 5}, 5: {3, 4, 5}}\n",
      "les classes : dclasses :  {0: {0, 1, 4, 5}, 1: {0, 1, 4, 5}, 2: {2, 3}, 3: {2, 3}, 4: {0, 1, 4, 5}, 5: {0, 1, 4, 5}}\n",
      "les features :  [1] \n",
      "\n",
      "la liste d'approximation lower2 :  [] \n",
      "\n",
      "\n",
      "la liste d'approximation upper2 :  [{0, 1, 2}, {3, 4, 5}] \n",
      "\n",
      "\n",
      "la boundary region :  [{0, 1, 2}, {3, 4, 5}] \n",
      "\n",
      "\n",
      "[2] \n",
      "\n",
      "\n",
      "['Temperature']\n",
      "les classes : dclasses :  {0: {0, 3, 4, 5}, 1: {1, 2}, 2: {1, 2}, 3: {0, 3, 4, 5}, 4: {0, 3, 4, 5}, 5: {0, 3, 4, 5}}\n",
      "les classes : dclasses :  {0: {0, 1, 4, 5}, 1: {0, 1, 4, 5}, 2: {2, 3}, 3: {2, 3}, 4: {0, 1, 4, 5}, 5: {0, 1, 4, 5}}\n",
      "les features :  [2] \n",
      "\n",
      "la liste d'approximation lower2 :  [] \n",
      "\n",
      "\n",
      "la liste d'approximation upper2 :  [{0, 3, 4, 5}, {1, 2}] \n",
      "\n",
      "\n",
      "la boundary region :  [{0, 3, 4, 5}, {1, 2}] \n",
      "\n",
      "\n",
      "[1, 2] \n",
      "\n",
      "\n",
      "['Muscle-pain', 'Temperature']\n",
      "les classes : dclasses :  {0: {0}, 1: {1, 2}, 2: {1, 2}, 3: {3, 4, 5}, 4: {3, 4, 5}, 5: {3, 4, 5}}\n",
      "les classes : dclasses :  {0: {0, 1, 4, 5}, 1: {0, 1, 4, 5}, 2: {2, 3}, 3: {2, 3}, 4: {0, 1, 4, 5}, 5: {0, 1, 4, 5}}\n",
      "les features :  [1, 2] \n",
      "\n",
      "la liste d'approximation lower2 :  [{0}] \n",
      "\n",
      "\n",
      "la liste d'approximation upper2 :  [{0}, {1, 2}, {3, 4, 5}] \n",
      "\n",
      "\n",
      "la boundary region :  [{1, 2}, {3, 4, 5}] \n",
      "\n",
      "\n",
      "le nombre de reducts co : 1\n"
     ]
    }
   ],
   "source": [
    "\n",
    "# Define the indices of the feature columns\n",
    "feature_indices = range(1,len(DF.columns))\n",
    "\n",
    "# Set D to the decision index\n",
    "D = [len(DF.columns)]\n",
    "\n",
    "# Set B to the set of feature indices\n",
    "B = set(range(1,len(DF.columns[:-1])))\n",
    "\n",
    "resultat = RST(B,D)"
   ]
  },
  {
   "cell_type": "code",
   "execution_count": 28,
   "id": "558bfe2d",
   "metadata": {},
   "outputs": [
    {
     "data": {
      "text/plain": [
       "[[1, 2]]"
      ]
     },
     "execution_count": 28,
     "metadata": {},
     "output_type": "execute_result"
    }
   ],
   "source": [
    "resultat"
   ]
  },
  {
   "cell_type": "code",
   "execution_count": null,
   "id": "7a45b0d7",
   "metadata": {},
   "outputs": [],
   "source": []
  }
 ],
 "metadata": {
  "kernelspec": {
   "display_name": "Python 3 (ipykernel)",
   "language": "python",
   "name": "python3"
  },
  "language_info": {
   "codemirror_mode": {
    "name": "ipython",
    "version": 3
   },
   "file_extension": ".py",
   "mimetype": "text/x-python",
   "name": "python",
   "nbconvert_exporter": "python",
   "pygments_lexer": "ipython3",
   "version": "3.9.12"
  }
 },
 "nbformat": 4,
 "nbformat_minor": 5
}
